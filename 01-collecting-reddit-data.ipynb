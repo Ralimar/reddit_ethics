{
 "cells": [
  {
   "cell_type": "markdown",
   "metadata": {},
   "source": [
    "Importing Libraries"
   ]
  },
  {
   "cell_type": "code",
   "execution_count": 1,
   "metadata": {},
   "outputs": [],
   "source": [
    "import numpy as np\n",
    "import requests\n",
    "import pandas as pd\n",
    "import datetime\n",
    "import time\n",
    "import re, regex"
   ]
  },
  {
   "cell_type": "markdown",
   "metadata": {},
   "source": [
    "Connecting to API"
   ]
  },
  {
   "cell_type": "code",
   "execution_count": 2,
   "metadata": {},
   "outputs": [],
   "source": [
    "base_url = 'https://api.pushshift.io/reddit/submission/search'"
   ]
  },
  {
   "cell_type": "markdown",
   "metadata": {},
   "source": [
    "Current time for first request."
   ]
  },
  {
   "cell_type": "code",
   "execution_count": 3,
   "metadata": {},
   "outputs": [
    {
     "data": {
      "text/plain": [
       "1587366134.4083178"
      ]
     },
     "execution_count": 3,
     "metadata": {},
     "output_type": "execute_result"
    }
   ],
   "source": [
    "time.time()"
   ]
  },
  {
   "cell_type": "markdown",
   "metadata": {},
   "source": [
    "Writing a function to pull and loop reddit posts to my specifications.  "
   ]
  },
  {
   "cell_type": "code",
   "execution_count": 73,
   "metadata": {},
   "outputs": [],
   "source": [
    "def get_reddit(subreddit, n_iter):\n",
    "    df_list = []\n",
    "    current_time = 1587359145\n",
    "    for _ in range(n_iter):\n",
    "        res = requests.get(\n",
    "            base_url,\n",
    "            params={\n",
    "                \"subreddit\": subreddit,\n",
    "                \"size\": 1000,\n",
    "                \"lang\": True,\n",
    "                \"before\": current_time,\n",
    "                \"locked\": False, \n",
    "                \"mod_deleted\": False, \n",
    "                \"no_follow\": False, \n",
    "                \"selftext:not\": \"[removed]\"  #this will not show posts with 'removed' as text\n",
    "            }\n",
    "        )\n",
    "        df = pd.DataFrame(res.json()['data'])\n",
    "        df = df.loc[:, [\"created_utc\", \"title\", \"selftext\", \"subreddit\"]]\n",
    "        df_list.append(df)\n",
    "        current_time = df.created_utc.min()\n",
    "    return pd.concat(df_list, axis=0)"
   ]
  },
  {
   "cell_type": "code",
   "execution_count": 74,
   "metadata": {},
   "outputs": [],
   "source": [
    "df_lpt = get_reddit(\"lifeprotips\", 10)"
   ]
  },
  {
   "cell_type": "code",
   "execution_count": 75,
   "metadata": {},
   "outputs": [
    {
     "data": {
      "text/plain": [
       "created_utc      0\n",
       "title            0\n",
       "selftext       626\n",
       "subreddit        0\n",
       "dtype: int64"
      ]
     },
     "execution_count": 75,
     "metadata": {},
     "output_type": "execute_result"
    }
   ],
   "source": [
    "df_lpt.isna().sum()"
   ]
  },
  {
   "cell_type": "markdown",
   "metadata": {},
   "source": [
    "Basic visual EDA"
   ]
  },
  {
   "cell_type": "code",
   "execution_count": 76,
   "metadata": {},
   "outputs": [
    {
     "data": {
      "text/html": [
       "<div>\n",
       "<style scoped>\n",
       "    .dataframe tbody tr th:only-of-type {\n",
       "        vertical-align: middle;\n",
       "    }\n",
       "\n",
       "    .dataframe tbody tr th {\n",
       "        vertical-align: top;\n",
       "    }\n",
       "\n",
       "    .dataframe thead th {\n",
       "        text-align: right;\n",
       "    }\n",
       "</style>\n",
       "<table border=\"1\" class=\"dataframe\">\n",
       "  <thead>\n",
       "    <tr style=\"text-align: right;\">\n",
       "      <th></th>\n",
       "      <th>created_utc</th>\n",
       "      <th>title</th>\n",
       "      <th>selftext</th>\n",
       "      <th>subreddit</th>\n",
       "    </tr>\n",
       "  </thead>\n",
       "  <tbody>\n",
       "    <tr>\n",
       "      <th>0</th>\n",
       "      <td>1587359085</td>\n",
       "      <td>LPT: if an online video has no controls to ski...</td>\n",
       "      <td></td>\n",
       "      <td>LifeProTips</td>\n",
       "    </tr>\n",
       "    <tr>\n",
       "      <th>1</th>\n",
       "      <td>1587359051</td>\n",
       "      <td>LPT I always judge people's maturity based on ...</td>\n",
       "      <td></td>\n",
       "      <td>LifeProTips</td>\n",
       "    </tr>\n",
       "    <tr>\n",
       "      <th>2</th>\n",
       "      <td>1587358591</td>\n",
       "      <td>LPT REQUEST:- CAN A INDIAN INDIAN SEND A SCRIP...</td>\n",
       "      <td></td>\n",
       "      <td>LifeProTips</td>\n",
       "    </tr>\n",
       "    <tr>\n",
       "      <th>3</th>\n",
       "      <td>1587358380</td>\n",
       "      <td>LPT Having small insect problems? Keep some st...</td>\n",
       "      <td>Obviously if you have a full on infestation ca...</td>\n",
       "      <td>LifeProTips</td>\n",
       "    </tr>\n",
       "    <tr>\n",
       "      <th>4</th>\n",
       "      <td>1587358145</td>\n",
       "      <td>LPT: when painting in your home, wear your clo...</td>\n",
       "      <td></td>\n",
       "      <td>LifeProTips</td>\n",
       "    </tr>\n",
       "    <tr>\n",
       "      <th>...</th>\n",
       "      <td>...</td>\n",
       "      <td>...</td>\n",
       "      <td>...</td>\n",
       "      <td>...</td>\n",
       "    </tr>\n",
       "    <tr>\n",
       "      <th>995</th>\n",
       "      <td>1582148446</td>\n",
       "      <td>LPT MOSTLY for men: Save money on a massage go...</td>\n",
       "      <td>Learned this while on a convention in Las Vega...</td>\n",
       "      <td>LifeProTips</td>\n",
       "    </tr>\n",
       "    <tr>\n",
       "      <th>996</th>\n",
       "      <td>1582148101</td>\n",
       "      <td>LPT: If you don’t recognize the first ingredie...</td>\n",
       "      <td></td>\n",
       "      <td>LifeProTips</td>\n",
       "    </tr>\n",
       "    <tr>\n",
       "      <th>997</th>\n",
       "      <td>1582148059</td>\n",
       "      <td>LPT: Click and hold the back button on your ph...</td>\n",
       "      <td></td>\n",
       "      <td>LifeProTips</td>\n",
       "    </tr>\n",
       "    <tr>\n",
       "      <th>998</th>\n",
       "      <td>1582146632</td>\n",
       "      <td>LPT for renters: always take pictures of your ...</td>\n",
       "      <td>This way you can't be charged for pre-existing...</td>\n",
       "      <td>LifeProTips</td>\n",
       "    </tr>\n",
       "    <tr>\n",
       "      <th>999</th>\n",
       "      <td>1582146583</td>\n",
       "      <td>LPT: If you password encrypt a file containing...</td>\n",
       "      <td></td>\n",
       "      <td>LifeProTips</td>\n",
       "    </tr>\n",
       "  </tbody>\n",
       "</table>\n",
       "<p>10000 rows × 4 columns</p>\n",
       "</div>"
      ],
      "text/plain": [
       "     created_utc                                              title  \\\n",
       "0     1587359085  LPT: if an online video has no controls to ski...   \n",
       "1     1587359051  LPT I always judge people's maturity based on ...   \n",
       "2     1587358591  LPT REQUEST:- CAN A INDIAN INDIAN SEND A SCRIP...   \n",
       "3     1587358380  LPT Having small insect problems? Keep some st...   \n",
       "4     1587358145  LPT: when painting in your home, wear your clo...   \n",
       "..           ...                                                ...   \n",
       "995   1582148446  LPT MOSTLY for men: Save money on a massage go...   \n",
       "996   1582148101  LPT: If you don’t recognize the first ingredie...   \n",
       "997   1582148059  LPT: Click and hold the back button on your ph...   \n",
       "998   1582146632  LPT for renters: always take pictures of your ...   \n",
       "999   1582146583  LPT: If you password encrypt a file containing...   \n",
       "\n",
       "                                              selftext    subreddit  \n",
       "0                                                       LifeProTips  \n",
       "1                                                       LifeProTips  \n",
       "2                                                       LifeProTips  \n",
       "3    Obviously if you have a full on infestation ca...  LifeProTips  \n",
       "4                                                       LifeProTips  \n",
       "..                                                 ...          ...  \n",
       "995  Learned this while on a convention in Las Vega...  LifeProTips  \n",
       "996                                                     LifeProTips  \n",
       "997                                                     LifeProTips  \n",
       "998  This way you can't be charged for pre-existing...  LifeProTips  \n",
       "999                                                     LifeProTips  \n",
       "\n",
       "[10000 rows x 4 columns]"
      ]
     },
     "execution_count": 76,
     "metadata": {},
     "output_type": "execute_result"
    }
   ],
   "source": [
    "df_lpt"
   ]
  },
  {
   "cell_type": "markdown",
   "metadata": {},
   "source": [
    "Pulling my 2nd subreddit"
   ]
  },
  {
   "cell_type": "code",
   "execution_count": 79,
   "metadata": {},
   "outputs": [],
   "source": [
    "df_ulpt = get_reddit(\"unethicallifeprotips\", 10)"
   ]
  },
  {
   "cell_type": "code",
   "execution_count": 80,
   "metadata": {},
   "outputs": [
    {
     "data": {
      "text/html": [
       "<div>\n",
       "<style scoped>\n",
       "    .dataframe tbody tr th:only-of-type {\n",
       "        vertical-align: middle;\n",
       "    }\n",
       "\n",
       "    .dataframe tbody tr th {\n",
       "        vertical-align: top;\n",
       "    }\n",
       "\n",
       "    .dataframe thead th {\n",
       "        text-align: right;\n",
       "    }\n",
       "</style>\n",
       "<table border=\"1\" class=\"dataframe\">\n",
       "  <thead>\n",
       "    <tr style=\"text-align: right;\">\n",
       "      <th></th>\n",
       "      <th>created_utc</th>\n",
       "      <th>title</th>\n",
       "      <th>selftext</th>\n",
       "      <th>subreddit</th>\n",
       "    </tr>\n",
       "  </thead>\n",
       "  <tbody>\n",
       "    <tr>\n",
       "      <th>0</th>\n",
       "      <td>1587353931</td>\n",
       "      <td>ULPT: the digital age is just yes or no, or so...</td>\n",
       "      <td></td>\n",
       "      <td>UnethicalLifeProTips</td>\n",
       "    </tr>\n",
       "    <tr>\n",
       "      <th>1</th>\n",
       "      <td>1587350160</td>\n",
       "      <td>ULPT: If you’re looking to buy something for s...</td>\n",
       "      <td></td>\n",
       "      <td>UnethicalLifeProTips</td>\n",
       "    </tr>\n",
       "    <tr>\n",
       "      <th>2</th>\n",
       "      <td>1587348108</td>\n",
       "      <td>ULPT - Brand new printer for $20 at staples</td>\n",
       "      <td>I purchased a new printer just about 12 months...</td>\n",
       "      <td>UnethicalLifeProTips</td>\n",
       "    </tr>\n",
       "    <tr>\n",
       "      <th>3</th>\n",
       "      <td>1587347092</td>\n",
       "      <td>ULPT: Dogshit on your lawn? Shovel it onto the...</td>\n",
       "      <td></td>\n",
       "      <td>UnethicalLifeProTips</td>\n",
       "    </tr>\n",
       "    <tr>\n",
       "      <th>4</th>\n",
       "      <td>1587344009</td>\n",
       "      <td>ULPT: If you ever have lots of garbage or larg...</td>\n",
       "      <td></td>\n",
       "      <td>UnethicalLifeProTips</td>\n",
       "    </tr>\n",
       "    <tr>\n",
       "      <th>...</th>\n",
       "      <td>...</td>\n",
       "      <td>...</td>\n",
       "      <td>...</td>\n",
       "      <td>...</td>\n",
       "    </tr>\n",
       "    <tr>\n",
       "      <th>995</th>\n",
       "      <td>1567301008</td>\n",
       "      <td>ULPT Spray paint forward thinking and accepted...</td>\n",
       "      <td>If they erase it, they look like a racist and/...</td>\n",
       "      <td>UnethicalLifeProTips</td>\n",
       "    </tr>\n",
       "    <tr>\n",
       "      <th>996</th>\n",
       "      <td>1567300352</td>\n",
       "      <td>ULPT: college student needing some pdf textboo...</td>\n",
       "      <td>Link for those who don't want to search for it...</td>\n",
       "      <td>UnethicalLifeProTips</td>\n",
       "    </tr>\n",
       "    <tr>\n",
       "      <th>997</th>\n",
       "      <td>1567294800</td>\n",
       "      <td>ULPT request: how do I make my dad lower his p...</td>\n",
       "      <td>So my dad basically always played music at 100...</td>\n",
       "      <td>UnethicalLifeProTips</td>\n",
       "    </tr>\n",
       "    <tr>\n",
       "      <th>998</th>\n",
       "      <td>1567293933</td>\n",
       "      <td>ULPT Request How to fake or get an easy doctor...</td>\n",
       "      <td>Hello fellow degenerates,\\n\\nI'm looking for a...</td>\n",
       "      <td>UnethicalLifeProTips</td>\n",
       "    </tr>\n",
       "    <tr>\n",
       "      <th>999</th>\n",
       "      <td>1567289418</td>\n",
       "      <td>ULPT request: how to get past extortionate fee...</td>\n",
       "      <td>Talking about a cards against humanity site, w...</td>\n",
       "      <td>UnethicalLifeProTips</td>\n",
       "    </tr>\n",
       "  </tbody>\n",
       "</table>\n",
       "<p>10000 rows × 4 columns</p>\n",
       "</div>"
      ],
      "text/plain": [
       "     created_utc                                              title  \\\n",
       "0     1587353931  ULPT: the digital age is just yes or no, or so...   \n",
       "1     1587350160  ULPT: If you’re looking to buy something for s...   \n",
       "2     1587348108        ULPT - Brand new printer for $20 at staples   \n",
       "3     1587347092  ULPT: Dogshit on your lawn? Shovel it onto the...   \n",
       "4     1587344009  ULPT: If you ever have lots of garbage or larg...   \n",
       "..           ...                                                ...   \n",
       "995   1567301008  ULPT Spray paint forward thinking and accepted...   \n",
       "996   1567300352  ULPT: college student needing some pdf textboo...   \n",
       "997   1567294800  ULPT request: how do I make my dad lower his p...   \n",
       "998   1567293933  ULPT Request How to fake or get an easy doctor...   \n",
       "999   1567289418  ULPT request: how to get past extortionate fee...   \n",
       "\n",
       "                                              selftext             subreddit  \n",
       "0                                                       UnethicalLifeProTips  \n",
       "1                                                       UnethicalLifeProTips  \n",
       "2    I purchased a new printer just about 12 months...  UnethicalLifeProTips  \n",
       "3                                                       UnethicalLifeProTips  \n",
       "4                                                       UnethicalLifeProTips  \n",
       "..                                                 ...                   ...  \n",
       "995  If they erase it, they look like a racist and/...  UnethicalLifeProTips  \n",
       "996  Link for those who don't want to search for it...  UnethicalLifeProTips  \n",
       "997  So my dad basically always played music at 100...  UnethicalLifeProTips  \n",
       "998  Hello fellow degenerates,\\n\\nI'm looking for a...  UnethicalLifeProTips  \n",
       "999  Talking about a cards against humanity site, w...  UnethicalLifeProTips  \n",
       "\n",
       "[10000 rows x 4 columns]"
      ]
     },
     "execution_count": 80,
     "metadata": {},
     "output_type": "execute_result"
    }
   ],
   "source": [
    "df_ulpt"
   ]
  },
  {
   "cell_type": "markdown",
   "metadata": {},
   "source": [
    "Joining the data from the two subreddits"
   ]
  },
  {
   "cell_type": "code",
   "execution_count": 135,
   "metadata": {},
   "outputs": [],
   "source": [
    "df = pd.concat([df_lpt, df_ulpt])"
   ]
  },
  {
   "cell_type": "code",
   "execution_count": 136,
   "metadata": {},
   "outputs": [
    {
     "data": {
      "text/html": [
       "<div>\n",
       "<style scoped>\n",
       "    .dataframe tbody tr th:only-of-type {\n",
       "        vertical-align: middle;\n",
       "    }\n",
       "\n",
       "    .dataframe tbody tr th {\n",
       "        vertical-align: top;\n",
       "    }\n",
       "\n",
       "    .dataframe thead th {\n",
       "        text-align: right;\n",
       "    }\n",
       "</style>\n",
       "<table border=\"1\" class=\"dataframe\">\n",
       "  <thead>\n",
       "    <tr style=\"text-align: right;\">\n",
       "      <th></th>\n",
       "      <th>created_utc</th>\n",
       "      <th>title</th>\n",
       "      <th>selftext</th>\n",
       "      <th>subreddit</th>\n",
       "    </tr>\n",
       "  </thead>\n",
       "  <tbody>\n",
       "    <tr>\n",
       "      <th>0</th>\n",
       "      <td>1587359085</td>\n",
       "      <td>LPT: if an online video has no controls to ski...</td>\n",
       "      <td></td>\n",
       "      <td>LifeProTips</td>\n",
       "    </tr>\n",
       "    <tr>\n",
       "      <th>1</th>\n",
       "      <td>1587359051</td>\n",
       "      <td>LPT I always judge people's maturity based on ...</td>\n",
       "      <td></td>\n",
       "      <td>LifeProTips</td>\n",
       "    </tr>\n",
       "    <tr>\n",
       "      <th>2</th>\n",
       "      <td>1587358591</td>\n",
       "      <td>LPT REQUEST:- CAN A INDIAN INDIAN SEND A SCRIP...</td>\n",
       "      <td></td>\n",
       "      <td>LifeProTips</td>\n",
       "    </tr>\n",
       "    <tr>\n",
       "      <th>3</th>\n",
       "      <td>1587358380</td>\n",
       "      <td>LPT Having small insect problems? Keep some st...</td>\n",
       "      <td>Obviously if you have a full on infestation ca...</td>\n",
       "      <td>LifeProTips</td>\n",
       "    </tr>\n",
       "    <tr>\n",
       "      <th>4</th>\n",
       "      <td>1587358145</td>\n",
       "      <td>LPT: when painting in your home, wear your clo...</td>\n",
       "      <td></td>\n",
       "      <td>LifeProTips</td>\n",
       "    </tr>\n",
       "    <tr>\n",
       "      <th>...</th>\n",
       "      <td>...</td>\n",
       "      <td>...</td>\n",
       "      <td>...</td>\n",
       "      <td>...</td>\n",
       "    </tr>\n",
       "    <tr>\n",
       "      <th>995</th>\n",
       "      <td>1567301008</td>\n",
       "      <td>ULPT Spray paint forward thinking and accepted...</td>\n",
       "      <td>If they erase it, they look like a racist and/...</td>\n",
       "      <td>UnethicalLifeProTips</td>\n",
       "    </tr>\n",
       "    <tr>\n",
       "      <th>996</th>\n",
       "      <td>1567300352</td>\n",
       "      <td>ULPT: college student needing some pdf textboo...</td>\n",
       "      <td>Link for those who don't want to search for it...</td>\n",
       "      <td>UnethicalLifeProTips</td>\n",
       "    </tr>\n",
       "    <tr>\n",
       "      <th>997</th>\n",
       "      <td>1567294800</td>\n",
       "      <td>ULPT request: how do I make my dad lower his p...</td>\n",
       "      <td>So my dad basically always played music at 100...</td>\n",
       "      <td>UnethicalLifeProTips</td>\n",
       "    </tr>\n",
       "    <tr>\n",
       "      <th>998</th>\n",
       "      <td>1567293933</td>\n",
       "      <td>ULPT Request How to fake or get an easy doctor...</td>\n",
       "      <td>Hello fellow degenerates,\\n\\nI'm looking for a...</td>\n",
       "      <td>UnethicalLifeProTips</td>\n",
       "    </tr>\n",
       "    <tr>\n",
       "      <th>999</th>\n",
       "      <td>1567289418</td>\n",
       "      <td>ULPT request: how to get past extortionate fee...</td>\n",
       "      <td>Talking about a cards against humanity site, w...</td>\n",
       "      <td>UnethicalLifeProTips</td>\n",
       "    </tr>\n",
       "  </tbody>\n",
       "</table>\n",
       "<p>20000 rows × 4 columns</p>\n",
       "</div>"
      ],
      "text/plain": [
       "     created_utc                                              title  \\\n",
       "0     1587359085  LPT: if an online video has no controls to ski...   \n",
       "1     1587359051  LPT I always judge people's maturity based on ...   \n",
       "2     1587358591  LPT REQUEST:- CAN A INDIAN INDIAN SEND A SCRIP...   \n",
       "3     1587358380  LPT Having small insect problems? Keep some st...   \n",
       "4     1587358145  LPT: when painting in your home, wear your clo...   \n",
       "..           ...                                                ...   \n",
       "995   1567301008  ULPT Spray paint forward thinking and accepted...   \n",
       "996   1567300352  ULPT: college student needing some pdf textboo...   \n",
       "997   1567294800  ULPT request: how do I make my dad lower his p...   \n",
       "998   1567293933  ULPT Request How to fake or get an easy doctor...   \n",
       "999   1567289418  ULPT request: how to get past extortionate fee...   \n",
       "\n",
       "                                              selftext             subreddit  \n",
       "0                                                                LifeProTips  \n",
       "1                                                                LifeProTips  \n",
       "2                                                                LifeProTips  \n",
       "3    Obviously if you have a full on infestation ca...           LifeProTips  \n",
       "4                                                                LifeProTips  \n",
       "..                                                 ...                   ...  \n",
       "995  If they erase it, they look like a racist and/...  UnethicalLifeProTips  \n",
       "996  Link for those who don't want to search for it...  UnethicalLifeProTips  \n",
       "997  So my dad basically always played music at 100...  UnethicalLifeProTips  \n",
       "998  Hello fellow degenerates,\\n\\nI'm looking for a...  UnethicalLifeProTips  \n",
       "999  Talking about a cards against humanity site, w...  UnethicalLifeProTips  \n",
       "\n",
       "[20000 rows x 4 columns]"
      ]
     },
     "execution_count": 136,
     "metadata": {},
     "output_type": "execute_result"
    }
   ],
   "source": [
    "df"
   ]
  },
  {
   "cell_type": "markdown",
   "metadata": {},
   "source": [
    "Dropping time."
   ]
  },
  {
   "cell_type": "code",
   "execution_count": 137,
   "metadata": {},
   "outputs": [],
   "source": [
    "df.drop(columns=['created_utc'], inplace=True)"
   ]
  },
  {
   "cell_type": "markdown",
   "metadata": {},
   "source": [
    "Dropping duplicates."
   ]
  },
  {
   "cell_type": "code",
   "execution_count": 138,
   "metadata": {},
   "outputs": [],
   "source": [
    "df.drop_duplicates(inplace=True)\n"
   ]
  },
  {
   "cell_type": "code",
   "execution_count": 139,
   "metadata": {},
   "outputs": [
    {
     "data": {
      "text/html": [
       "<div>\n",
       "<style scoped>\n",
       "    .dataframe tbody tr th:only-of-type {\n",
       "        vertical-align: middle;\n",
       "    }\n",
       "\n",
       "    .dataframe tbody tr th {\n",
       "        vertical-align: top;\n",
       "    }\n",
       "\n",
       "    .dataframe thead th {\n",
       "        text-align: right;\n",
       "    }\n",
       "</style>\n",
       "<table border=\"1\" class=\"dataframe\">\n",
       "  <thead>\n",
       "    <tr style=\"text-align: right;\">\n",
       "      <th></th>\n",
       "      <th>title</th>\n",
       "      <th>selftext</th>\n",
       "      <th>subreddit</th>\n",
       "    </tr>\n",
       "  </thead>\n",
       "  <tbody>\n",
       "    <tr>\n",
       "      <th>0</th>\n",
       "      <td>LPT: if an online video has no controls to ski...</td>\n",
       "      <td></td>\n",
       "      <td>LifeProTips</td>\n",
       "    </tr>\n",
       "    <tr>\n",
       "      <th>1</th>\n",
       "      <td>LPT I always judge people's maturity based on ...</td>\n",
       "      <td></td>\n",
       "      <td>LifeProTips</td>\n",
       "    </tr>\n",
       "    <tr>\n",
       "      <th>2</th>\n",
       "      <td>LPT REQUEST:- CAN A INDIAN INDIAN SEND A SCRIP...</td>\n",
       "      <td></td>\n",
       "      <td>LifeProTips</td>\n",
       "    </tr>\n",
       "    <tr>\n",
       "      <th>3</th>\n",
       "      <td>LPT Having small insect problems? Keep some st...</td>\n",
       "      <td>Obviously if you have a full on infestation ca...</td>\n",
       "      <td>LifeProTips</td>\n",
       "    </tr>\n",
       "    <tr>\n",
       "      <th>4</th>\n",
       "      <td>LPT: when painting in your home, wear your clo...</td>\n",
       "      <td></td>\n",
       "      <td>LifeProTips</td>\n",
       "    </tr>\n",
       "    <tr>\n",
       "      <th>...</th>\n",
       "      <td>...</td>\n",
       "      <td>...</td>\n",
       "      <td>...</td>\n",
       "    </tr>\n",
       "    <tr>\n",
       "      <th>995</th>\n",
       "      <td>ULPT Spray paint forward thinking and accepted...</td>\n",
       "      <td>If they erase it, they look like a racist and/...</td>\n",
       "      <td>UnethicalLifeProTips</td>\n",
       "    </tr>\n",
       "    <tr>\n",
       "      <th>996</th>\n",
       "      <td>ULPT: college student needing some pdf textboo...</td>\n",
       "      <td>Link for those who don't want to search for it...</td>\n",
       "      <td>UnethicalLifeProTips</td>\n",
       "    </tr>\n",
       "    <tr>\n",
       "      <th>997</th>\n",
       "      <td>ULPT request: how do I make my dad lower his p...</td>\n",
       "      <td>So my dad basically always played music at 100...</td>\n",
       "      <td>UnethicalLifeProTips</td>\n",
       "    </tr>\n",
       "    <tr>\n",
       "      <th>998</th>\n",
       "      <td>ULPT Request How to fake or get an easy doctor...</td>\n",
       "      <td>Hello fellow degenerates,\\n\\nI'm looking for a...</td>\n",
       "      <td>UnethicalLifeProTips</td>\n",
       "    </tr>\n",
       "    <tr>\n",
       "      <th>999</th>\n",
       "      <td>ULPT request: how to get past extortionate fee...</td>\n",
       "      <td>Talking about a cards against humanity site, w...</td>\n",
       "      <td>UnethicalLifeProTips</td>\n",
       "    </tr>\n",
       "  </tbody>\n",
       "</table>\n",
       "<p>19890 rows × 3 columns</p>\n",
       "</div>"
      ],
      "text/plain": [
       "                                                 title  \\\n",
       "0    LPT: if an online video has no controls to ski...   \n",
       "1    LPT I always judge people's maturity based on ...   \n",
       "2    LPT REQUEST:- CAN A INDIAN INDIAN SEND A SCRIP...   \n",
       "3    LPT Having small insect problems? Keep some st...   \n",
       "4    LPT: when painting in your home, wear your clo...   \n",
       "..                                                 ...   \n",
       "995  ULPT Spray paint forward thinking and accepted...   \n",
       "996  ULPT: college student needing some pdf textboo...   \n",
       "997  ULPT request: how do I make my dad lower his p...   \n",
       "998  ULPT Request How to fake or get an easy doctor...   \n",
       "999  ULPT request: how to get past extortionate fee...   \n",
       "\n",
       "                                              selftext             subreddit  \n",
       "0                                                                LifeProTips  \n",
       "1                                                                LifeProTips  \n",
       "2                                                                LifeProTips  \n",
       "3    Obviously if you have a full on infestation ca...           LifeProTips  \n",
       "4                                                                LifeProTips  \n",
       "..                                                 ...                   ...  \n",
       "995  If they erase it, they look like a racist and/...  UnethicalLifeProTips  \n",
       "996  Link for those who don't want to search for it...  UnethicalLifeProTips  \n",
       "997  So my dad basically always played music at 100...  UnethicalLifeProTips  \n",
       "998  Hello fellow degenerates,\\n\\nI'm looking for a...  UnethicalLifeProTips  \n",
       "999  Talking about a cards against humanity site, w...  UnethicalLifeProTips  \n",
       "\n",
       "[19890 rows x 3 columns]"
      ]
     },
     "execution_count": 139,
     "metadata": {},
     "output_type": "execute_result"
    }
   ],
   "source": [
    "df"
   ]
  },
  {
   "cell_type": "markdown",
   "metadata": {},
   "source": [
    "Resetting the index after dropping values.  "
   ]
  },
  {
   "cell_type": "code",
   "execution_count": 151,
   "metadata": {},
   "outputs": [],
   "source": [
    "df.reset_index(drop=True, inplace=True)"
   ]
  },
  {
   "cell_type": "code",
   "execution_count": 152,
   "metadata": {},
   "outputs": [
    {
     "data": {
      "text/html": [
       "<div>\n",
       "<style scoped>\n",
       "    .dataframe tbody tr th:only-of-type {\n",
       "        vertical-align: middle;\n",
       "    }\n",
       "\n",
       "    .dataframe tbody tr th {\n",
       "        vertical-align: top;\n",
       "    }\n",
       "\n",
       "    .dataframe thead th {\n",
       "        text-align: right;\n",
       "    }\n",
       "</style>\n",
       "<table border=\"1\" class=\"dataframe\">\n",
       "  <thead>\n",
       "    <tr style=\"text-align: right;\">\n",
       "      <th></th>\n",
       "      <th>title</th>\n",
       "      <th>selftext</th>\n",
       "      <th>subreddit</th>\n",
       "    </tr>\n",
       "  </thead>\n",
       "  <tbody>\n",
       "    <tr>\n",
       "      <th>0</th>\n",
       "      <td>if an online video has no controls to skip, p...</td>\n",
       "      <td></td>\n",
       "      <td>LifeProTips</td>\n",
       "    </tr>\n",
       "    <tr>\n",
       "      <th>1</th>\n",
       "      <td>I always judge people's maturity based on the...</td>\n",
       "      <td></td>\n",
       "      <td>LifeProTips</td>\n",
       "    </tr>\n",
       "    <tr>\n",
       "      <th>2</th>\n",
       "      <td>REQUEST:- CAN A INDIAN INDIAN SEND A SCRIPT T...</td>\n",
       "      <td></td>\n",
       "      <td>LifeProTips</td>\n",
       "    </tr>\n",
       "    <tr>\n",
       "      <th>3</th>\n",
       "      <td>Having small insect problems? Keep some stick...</td>\n",
       "      <td>Obviously if you have a full on infestation ca...</td>\n",
       "      <td>LifeProTips</td>\n",
       "    </tr>\n",
       "    <tr>\n",
       "      <th>4</th>\n",
       "      <td>when painting in your home, wear your clothes...</td>\n",
       "      <td></td>\n",
       "      <td>LifeProTips</td>\n",
       "    </tr>\n",
       "    <tr>\n",
       "      <th>...</th>\n",
       "      <td>...</td>\n",
       "      <td>...</td>\n",
       "      <td>...</td>\n",
       "    </tr>\n",
       "    <tr>\n",
       "      <th>19885</th>\n",
       "      <td>Spray paint forward thinking and accepted phr...</td>\n",
       "      <td>If they erase it, they look like a racist and/...</td>\n",
       "      <td>UnethicalLifeProTips</td>\n",
       "    </tr>\n",
       "    <tr>\n",
       "      <th>19886</th>\n",
       "      <td>college student needing some pdf textbooks? U...</td>\n",
       "      <td>Link for those who don't want to search for it...</td>\n",
       "      <td>UnethicalLifeProTips</td>\n",
       "    </tr>\n",
       "    <tr>\n",
       "      <th>19887</th>\n",
       "      <td>request: how do I make my dad lower his pc vo...</td>\n",
       "      <td>So my dad basically always played music at 100...</td>\n",
       "      <td>UnethicalLifeProTips</td>\n",
       "    </tr>\n",
       "    <tr>\n",
       "      <th>19888</th>\n",
       "      <td>How to fake or get an easy doctors note</td>\n",
       "      <td>Hello fellow degenerates,\\n\\nI'm looking for a...</td>\n",
       "      <td>UnethicalLifeProTips</td>\n",
       "    </tr>\n",
       "    <tr>\n",
       "      <th>19889</th>\n",
       "      <td>request: how to get past extortionate fees to...</td>\n",
       "      <td>Talking about a cards against humanity site, w...</td>\n",
       "      <td>UnethicalLifeProTips</td>\n",
       "    </tr>\n",
       "  </tbody>\n",
       "</table>\n",
       "<p>19890 rows × 3 columns</p>\n",
       "</div>"
      ],
      "text/plain": [
       "                                                   title  \\\n",
       "0       if an online video has no controls to skip, p...   \n",
       "1       I always judge people's maturity based on the...   \n",
       "2       REQUEST:- CAN A INDIAN INDIAN SEND A SCRIPT T...   \n",
       "3       Having small insect problems? Keep some stick...   \n",
       "4       when painting in your home, wear your clothes...   \n",
       "...                                                  ...   \n",
       "19885   Spray paint forward thinking and accepted phr...   \n",
       "19886   college student needing some pdf textbooks? U...   \n",
       "19887   request: how do I make my dad lower his pc vo...   \n",
       "19888            How to fake or get an easy doctors note   \n",
       "19889   request: how to get past extortionate fees to...   \n",
       "\n",
       "                                                selftext             subreddit  \n",
       "0                                                                  LifeProTips  \n",
       "1                                                                  LifeProTips  \n",
       "2                                                                  LifeProTips  \n",
       "3      Obviously if you have a full on infestation ca...           LifeProTips  \n",
       "4                                                                  LifeProTips  \n",
       "...                                                  ...                   ...  \n",
       "19885  If they erase it, they look like a racist and/...  UnethicalLifeProTips  \n",
       "19886  Link for those who don't want to search for it...  UnethicalLifeProTips  \n",
       "19887  So my dad basically always played music at 100...  UnethicalLifeProTips  \n",
       "19888  Hello fellow degenerates,\\n\\nI'm looking for a...  UnethicalLifeProTips  \n",
       "19889  Talking about a cards against humanity site, w...  UnethicalLifeProTips  \n",
       "\n",
       "[19890 rows x 3 columns]"
      ]
     },
     "execution_count": 152,
     "metadata": {},
     "output_type": "execute_result"
    }
   ],
   "source": [
    "df"
   ]
  },
  {
   "cell_type": "markdown",
   "metadata": {},
   "source": [
    "Dropping problematic rows that have no title and are likely deleted.  "
   ]
  },
  {
   "cell_type": "code",
   "execution_count": 62,
   "metadata": {},
   "outputs": [],
   "source": [
    "df.dropna(subset=['title'], inplace=True) "
   ]
  },
  {
   "cell_type": "markdown",
   "metadata": {},
   "source": [
    "Filling NaN values with nothing."
   ]
  },
  {
   "cell_type": "code",
   "execution_count": 76,
   "metadata": {},
   "outputs": [],
   "source": [
    "df.fillna(value=\"\", inplace=True)"
   ]
  },
  {
   "cell_type": "markdown",
   "metadata": {},
   "source": [
    "Combining Title and body text.  "
   ]
  },
  {
   "cell_type": "code",
   "execution_count": 78,
   "metadata": {},
   "outputs": [],
   "source": [
    "df['text'] = df['title'] + \" \" + df['selftext']"
   ]
  },
  {
   "cell_type": "markdown",
   "metadata": {},
   "source": [
    "Dropping separate columns"
   ]
  },
  {
   "cell_type": "code",
   "execution_count": 80,
   "metadata": {},
   "outputs": [],
   "source": [
    "df.drop(columns=['title', 'selftext'], inplace=True)"
   ]
  },
  {
   "cell_type": "markdown",
   "metadata": {},
   "source": [
    "Creating dummy variables for target column."
   ]
  },
  {
   "cell_type": "code",
   "execution_count": 9,
   "metadata": {},
   "outputs": [],
   "source": [
    "df = pd.get_dummies(df, columns=['subreddit'], drop_first=True)"
   ]
  },
  {
   "cell_type": "markdown",
   "metadata": {},
   "source": [
    "Renaming columns to my specifications.  "
   ]
  },
  {
   "cell_type": "code",
   "execution_count": 20,
   "metadata": {},
   "outputs": [],
   "source": [
    "df = df.rename(columns= {'text':'text', 'subreddit_UnethicalLifeProTips': 'unethical'})"
   ]
  },
  {
   "cell_type": "markdown",
   "metadata": {},
   "source": [
    "Converting text to lower case.  "
   ]
  },
  {
   "cell_type": "code",
   "execution_count": null,
   "metadata": {},
   "outputs": [],
   "source": [
    "df['text'] = df['text'].str.lower()"
   ]
  },
  {
   "cell_type": "markdown",
   "metadata": {},
   "source": [
    "Removing obvious markers.  "
   ]
  },
  {
   "cell_type": "code",
   "execution_count": 38,
   "metadata": {},
   "outputs": [],
   "source": [
    "bad_words = ['lpt', 'lpt:', 'ulpt', 'ulpt:', 'ethical', 'unethical']\n",
    "\n",
    "df['text'] = df['text'].map(lambda x: re.sub('ulpt:', '', x))\n",
    "\n",
    "df['text'] = df['text'].map(lambda x: re.sub('ulpt', '', x))\n",
    "\n",
    "df['text'] = df['text'].map(lambda x: re.sub('lpt:', '', x))\n",
    "\n",
    "df['text'] = df['text'].map(lambda x: re.sub('lpt', '', x))\n",
    "\n",
    "df['text'] = df['text'].map(lambda x: re.sub('ethical', '', x))\n",
    "\n",
    "df['text'] = df['text'].map(lambda x: re.sub('unethical', '', x))\n"
   ]
  },
  {
   "cell_type": "markdown",
   "metadata": {},
   "source": [
    "Saving cleaned dataset to CSV.  "
   ]
  },
  {
   "cell_type": "code",
   "execution_count": 40,
   "metadata": {},
   "outputs": [],
   "source": [
    "df.to_csv(\"./data/reddit_df.csv\", index=False)"
   ]
  },
  {
   "cell_type": "markdown",
   "metadata": {},
   "source": [
    "One last quality check.  "
   ]
  },
  {
   "cell_type": "code",
   "execution_count": 39,
   "metadata": {},
   "outputs": [
    {
     "data": {
      "text/html": [
       "<div>\n",
       "<style scoped>\n",
       "    .dataframe tbody tr th:only-of-type {\n",
       "        vertical-align: middle;\n",
       "    }\n",
       "\n",
       "    .dataframe tbody tr th {\n",
       "        vertical-align: top;\n",
       "    }\n",
       "\n",
       "    .dataframe thead th {\n",
       "        text-align: right;\n",
       "    }\n",
       "</style>\n",
       "<table border=\"1\" class=\"dataframe\">\n",
       "  <thead>\n",
       "    <tr style=\"text-align: right;\">\n",
       "      <th></th>\n",
       "      <th>text</th>\n",
       "      <th>unethical</th>\n",
       "    </tr>\n",
       "  </thead>\n",
       "  <tbody>\n",
       "    <tr>\n",
       "      <th>0</th>\n",
       "      <td>if an online video has no controls to skip, p...</td>\n",
       "      <td>0</td>\n",
       "    </tr>\n",
       "    <tr>\n",
       "      <th>1</th>\n",
       "      <td>i always judge people's maturity based on the...</td>\n",
       "      <td>0</td>\n",
       "    </tr>\n",
       "    <tr>\n",
       "      <th>2</th>\n",
       "      <td>request:- can a indian indian send a script t...</td>\n",
       "      <td>0</td>\n",
       "    </tr>\n",
       "    <tr>\n",
       "      <th>3</th>\n",
       "      <td>having small insect problems? keep some stick...</td>\n",
       "      <td>0</td>\n",
       "    </tr>\n",
       "    <tr>\n",
       "      <th>4</th>\n",
       "      <td>when painting in your home, wear your clothes...</td>\n",
       "      <td>0</td>\n",
       "    </tr>\n",
       "    <tr>\n",
       "      <th>...</th>\n",
       "      <td>...</td>\n",
       "      <td>...</td>\n",
       "    </tr>\n",
       "    <tr>\n",
       "      <th>19847</th>\n",
       "      <td>spray paint forward thinking and accepted phr...</td>\n",
       "      <td>1</td>\n",
       "    </tr>\n",
       "    <tr>\n",
       "      <th>19848</th>\n",
       "      <td>college student needing some pdf textbooks? u...</td>\n",
       "      <td>1</td>\n",
       "    </tr>\n",
       "    <tr>\n",
       "      <th>19849</th>\n",
       "      <td>request: how do i make my dad lower his pc vo...</td>\n",
       "      <td>1</td>\n",
       "    </tr>\n",
       "    <tr>\n",
       "      <th>19850</th>\n",
       "      <td>how to fake or get an easy doctors note hell...</td>\n",
       "      <td>1</td>\n",
       "    </tr>\n",
       "    <tr>\n",
       "      <th>19851</th>\n",
       "      <td>request: how to get past extortionate fees to...</td>\n",
       "      <td>1</td>\n",
       "    </tr>\n",
       "  </tbody>\n",
       "</table>\n",
       "<p>19852 rows × 2 columns</p>\n",
       "</div>"
      ],
      "text/plain": [
       "                                                    text  unethical\n",
       "0       if an online video has no controls to skip, p...          0\n",
       "1       i always judge people's maturity based on the...          0\n",
       "2       request:- can a indian indian send a script t...          0\n",
       "3       having small insect problems? keep some stick...          0\n",
       "4       when painting in your home, wear your clothes...          0\n",
       "...                                                  ...        ...\n",
       "19847   spray paint forward thinking and accepted phr...          1\n",
       "19848   college student needing some pdf textbooks? u...          1\n",
       "19849   request: how do i make my dad lower his pc vo...          1\n",
       "19850    how to fake or get an easy doctors note hell...          1\n",
       "19851   request: how to get past extortionate fees to...          1\n",
       "\n",
       "[19852 rows x 2 columns]"
      ]
     },
     "execution_count": 39,
     "metadata": {},
     "output_type": "execute_result"
    }
   ],
   "source": [
    "df"
   ]
  },
  {
   "cell_type": "code",
   "execution_count": null,
   "metadata": {},
   "outputs": [],
   "source": []
  }
 ],
 "metadata": {
  "kernelspec": {
   "display_name": "Python 3",
   "language": "python",
   "name": "python3"
  },
  "language_info": {
   "codemirror_mode": {
    "name": "ipython",
    "version": 3
   },
   "file_extension": ".py",
   "mimetype": "text/x-python",
   "name": "python",
   "nbconvert_exporter": "python",
   "pygments_lexer": "ipython3",
   "version": "3.7.6"
  }
 },
 "nbformat": 4,
 "nbformat_minor": 4
}
