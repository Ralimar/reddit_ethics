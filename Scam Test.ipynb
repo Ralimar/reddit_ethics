{
 "cells": [
  {
   "cell_type": "code",
   "execution_count": 1,
   "metadata": {},
   "outputs": [],
   "source": [
    "import numpy as np\n",
    "import requests\n",
    "import pandas as pd\n",
    "import datetime\n",
    "import time\n",
    "import re, regex"
   ]
  },
  {
   "cell_type": "code",
   "execution_count": 2,
   "metadata": {},
   "outputs": [],
   "source": [
    "base_url = 'https://api.pushshift.io/reddit/submission/search'"
   ]
  },
  {
   "cell_type": "code",
   "execution_count": 3,
   "metadata": {},
   "outputs": [
    {
     "data": {
      "text/plain": [
       "1587720501.8997126"
      ]
     },
     "execution_count": 3,
     "metadata": {},
     "output_type": "execute_result"
    }
   ],
   "source": [
    "time.time()"
   ]
  },
  {
   "cell_type": "code",
   "execution_count": 4,
   "metadata": {},
   "outputs": [],
   "source": [
    "def get_reddit(subreddit, n_iter):\n",
    "    df_list = []\n",
    "    current_time = 1587359145\n",
    "    for _ in range(n_iter):\n",
    "        res = requests.get(\n",
    "            base_url,\n",
    "            params={\n",
    "                \"subreddit\": subreddit,\n",
    "                \"size\": 1000,\n",
    "                \"lang\": True,\n",
    "                \"before\": current_time,\n",
    "                \"locked\": False, \n",
    "                \"mod_deleted\": False, \n",
    "                \"no_follow\": False, \n",
    "                \"selftext:not\": \"[removed]\"  #this will not show posts with 'removed' as text\n",
    "            }\n",
    "        )\n",
    "        df = pd.DataFrame(res.json()['data'])\n",
    "        df = df.loc[:, [\"created_utc\", \"title\", \"selftext\", \"subreddit\"]]\n",
    "        df_list.append(df)\n",
    "        current_time = df.created_utc.min()\n",
    "    return pd.concat(df_list, axis=0)"
   ]
  },
  {
   "cell_type": "code",
   "execution_count": 5,
   "metadata": {},
   "outputs": [],
   "source": [
    "df_scams = get_reddit(\"scams\", 5)"
   ]
  },
  {
   "cell_type": "code",
   "execution_count": 6,
   "metadata": {},
   "outputs": [
    {
     "data": {
      "text/plain": [
       "created_utc    0\n",
       "title          0\n",
       "selftext       9\n",
       "subreddit      0\n",
       "dtype: int64"
      ]
     },
     "execution_count": 6,
     "metadata": {},
     "output_type": "execute_result"
    }
   ],
   "source": [
    "df_scams.isna().sum()"
   ]
  },
  {
   "cell_type": "code",
   "execution_count": 7,
   "metadata": {},
   "outputs": [
    {
     "data": {
      "text/html": [
       "<div>\n",
       "<style scoped>\n",
       "    .dataframe tbody tr th:only-of-type {\n",
       "        vertical-align: middle;\n",
       "    }\n",
       "\n",
       "    .dataframe tbody tr th {\n",
       "        vertical-align: top;\n",
       "    }\n",
       "\n",
       "    .dataframe thead th {\n",
       "        text-align: right;\n",
       "    }\n",
       "</style>\n",
       "<table border=\"1\" class=\"dataframe\">\n",
       "  <thead>\n",
       "    <tr style=\"text-align: right;\">\n",
       "      <th></th>\n",
       "      <th>created_utc</th>\n",
       "      <th>title</th>\n",
       "      <th>selftext</th>\n",
       "      <th>subreddit</th>\n",
       "    </tr>\n",
       "  </thead>\n",
       "  <tbody>\n",
       "    <tr>\n",
       "      <th>0</th>\n",
       "      <td>1587358920</td>\n",
       "      <td>Got this weird message. Guessing it's a scam?</td>\n",
       "      <td></td>\n",
       "      <td>Scams</td>\n",
       "    </tr>\n",
       "    <tr>\n",
       "      <th>1</th>\n",
       "      <td>1587357186</td>\n",
       "      <td>When your friends post links to a FREE 2020 Je...</td>\n",
       "      <td></td>\n",
       "      <td>Scams</td>\n",
       "    </tr>\n",
       "    <tr>\n",
       "      <th>2</th>\n",
       "      <td>1587356559</td>\n",
       "      <td>I’ve been scammed 5k</td>\n",
       "      <td>Sorry for any grammatical issues.\\n\\nShort sto...</td>\n",
       "      <td>Scams</td>\n",
       "    </tr>\n",
       "    <tr>\n",
       "      <th>3</th>\n",
       "      <td>1587354620</td>\n",
       "      <td>I got scammed-will I be able to get refund?</td>\n",
       "      <td>Hi,\\n\\nI got problem.I bought something from o...</td>\n",
       "      <td>Scams</td>\n",
       "    </tr>\n",
       "    <tr>\n",
       "      <th>4</th>\n",
       "      <td>1587354426</td>\n",
       "      <td>My dad found this website with \"great guitars\"...</td>\n",
       "      <td></td>\n",
       "      <td>Scams</td>\n",
       "    </tr>\n",
       "    <tr>\n",
       "      <th>...</th>\n",
       "      <td>...</td>\n",
       "      <td>...</td>\n",
       "      <td>...</td>\n",
       "      <td>...</td>\n",
       "    </tr>\n",
       "    <tr>\n",
       "      <th>995</th>\n",
       "      <td>1581366274</td>\n",
       "      <td>I think I just got scammed and feel so stupid</td>\n",
       "      <td></td>\n",
       "      <td>Scams</td>\n",
       "    </tr>\n",
       "    <tr>\n",
       "      <th>996</th>\n",
       "      <td>1581365773</td>\n",
       "      <td>Is Google Opinion Rewards a Scam</td>\n",
       "      <td>So i found this app called \\nGoogle Opinion Re...</td>\n",
       "      <td>Scams</td>\n",
       "    </tr>\n",
       "    <tr>\n",
       "      <th>997</th>\n",
       "      <td>1581365770</td>\n",
       "      <td>Is Google Opinion Rewards a Scam</td>\n",
       "      <td>So i found this app called \\nGoogle Opinion Re...</td>\n",
       "      <td>Scams</td>\n",
       "    </tr>\n",
       "    <tr>\n",
       "      <th>998</th>\n",
       "      <td>1581365104</td>\n",
       "      <td>I'm going to Jail (Short)</td>\n",
       "      <td>First time poster, but just a quick one I had ...</td>\n",
       "      <td>Scams</td>\n",
       "    </tr>\n",
       "    <tr>\n",
       "      <th>999</th>\n",
       "      <td>1581363566</td>\n",
       "      <td>I would like some assistance about something o...</td>\n",
       "      <td>So I got a message yesterday from a Facebook f...</td>\n",
       "      <td>Scams</td>\n",
       "    </tr>\n",
       "  </tbody>\n",
       "</table>\n",
       "<p>5000 rows × 4 columns</p>\n",
       "</div>"
      ],
      "text/plain": [
       "     created_utc                                              title  \\\n",
       "0     1587358920      Got this weird message. Guessing it's a scam?   \n",
       "1     1587357186  When your friends post links to a FREE 2020 Je...   \n",
       "2     1587356559                               I’ve been scammed 5k   \n",
       "3     1587354620        I got scammed-will I be able to get refund?   \n",
       "4     1587354426  My dad found this website with \"great guitars\"...   \n",
       "..           ...                                                ...   \n",
       "995   1581366274      I think I just got scammed and feel so stupid   \n",
       "996   1581365773                   Is Google Opinion Rewards a Scam   \n",
       "997   1581365770                   Is Google Opinion Rewards a Scam   \n",
       "998   1581365104                          I'm going to Jail (Short)   \n",
       "999   1581363566  I would like some assistance about something o...   \n",
       "\n",
       "                                              selftext subreddit  \n",
       "0                                                          Scams  \n",
       "1                                                          Scams  \n",
       "2    Sorry for any grammatical issues.\\n\\nShort sto...     Scams  \n",
       "3    Hi,\\n\\nI got problem.I bought something from o...     Scams  \n",
       "4                                                          Scams  \n",
       "..                                                 ...       ...  \n",
       "995                                                        Scams  \n",
       "996  So i found this app called \\nGoogle Opinion Re...     Scams  \n",
       "997  So i found this app called \\nGoogle Opinion Re...     Scams  \n",
       "998  First time poster, but just a quick one I had ...     Scams  \n",
       "999  So I got a message yesterday from a Facebook f...     Scams  \n",
       "\n",
       "[5000 rows x 4 columns]"
      ]
     },
     "execution_count": 7,
     "metadata": {},
     "output_type": "execute_result"
    }
   ],
   "source": [
    "df_scams"
   ]
  },
  {
   "cell_type": "code",
   "execution_count": 78,
   "metadata": {},
   "outputs": [],
   "source": [
    "#df_lpt.loc[(df_lpt['selftext'] == '[removed]')]"
   ]
  },
  {
   "cell_type": "code",
   "execution_count": 66,
   "metadata": {},
   "outputs": [],
   "source": [
    "#df_lpt.drop(index=df_lpt.loc[(df_lpt['selftext'] == '[removed]')].index, inplace=True)"
   ]
  },
  {
   "cell_type": "code",
   "execution_count": 8,
   "metadata": {},
   "outputs": [],
   "source": [
    "df_scams.drop(columns=['created_utc'], inplace=True)"
   ]
  },
  {
   "cell_type": "code",
   "execution_count": 9,
   "metadata": {},
   "outputs": [],
   "source": [
    "df_scams.drop_duplicates(inplace=True)\n"
   ]
  },
  {
   "cell_type": "code",
   "execution_count": 10,
   "metadata": {},
   "outputs": [
    {
     "data": {
      "text/html": [
       "<div>\n",
       "<style scoped>\n",
       "    .dataframe tbody tr th:only-of-type {\n",
       "        vertical-align: middle;\n",
       "    }\n",
       "\n",
       "    .dataframe tbody tr th {\n",
       "        vertical-align: top;\n",
       "    }\n",
       "\n",
       "    .dataframe thead th {\n",
       "        text-align: right;\n",
       "    }\n",
       "</style>\n",
       "<table border=\"1\" class=\"dataframe\">\n",
       "  <thead>\n",
       "    <tr style=\"text-align: right;\">\n",
       "      <th></th>\n",
       "      <th>title</th>\n",
       "      <th>selftext</th>\n",
       "      <th>subreddit</th>\n",
       "    </tr>\n",
       "  </thead>\n",
       "  <tbody>\n",
       "    <tr>\n",
       "      <th>0</th>\n",
       "      <td>Got this weird message. Guessing it's a scam?</td>\n",
       "      <td></td>\n",
       "      <td>Scams</td>\n",
       "    </tr>\n",
       "    <tr>\n",
       "      <th>1</th>\n",
       "      <td>When your friends post links to a FREE 2020 Je...</td>\n",
       "      <td></td>\n",
       "      <td>Scams</td>\n",
       "    </tr>\n",
       "    <tr>\n",
       "      <th>2</th>\n",
       "      <td>I’ve been scammed 5k</td>\n",
       "      <td>Sorry for any grammatical issues.\\n\\nShort sto...</td>\n",
       "      <td>Scams</td>\n",
       "    </tr>\n",
       "    <tr>\n",
       "      <th>3</th>\n",
       "      <td>I got scammed-will I be able to get refund?</td>\n",
       "      <td>Hi,\\n\\nI got problem.I bought something from o...</td>\n",
       "      <td>Scams</td>\n",
       "    </tr>\n",
       "    <tr>\n",
       "      <th>4</th>\n",
       "      <td>My dad found this website with \"great guitars\"...</td>\n",
       "      <td></td>\n",
       "      <td>Scams</td>\n",
       "    </tr>\n",
       "    <tr>\n",
       "      <th>...</th>\n",
       "      <td>...</td>\n",
       "      <td>...</td>\n",
       "      <td>...</td>\n",
       "    </tr>\n",
       "    <tr>\n",
       "      <th>994</th>\n",
       "      <td>Always check the emails lol</td>\n",
       "      <td></td>\n",
       "      <td>Scams</td>\n",
       "    </tr>\n",
       "    <tr>\n",
       "      <th>995</th>\n",
       "      <td>I think I just got scammed and feel so stupid</td>\n",
       "      <td></td>\n",
       "      <td>Scams</td>\n",
       "    </tr>\n",
       "    <tr>\n",
       "      <th>996</th>\n",
       "      <td>Is Google Opinion Rewards a Scam</td>\n",
       "      <td>So i found this app called \\nGoogle Opinion Re...</td>\n",
       "      <td>Scams</td>\n",
       "    </tr>\n",
       "    <tr>\n",
       "      <th>998</th>\n",
       "      <td>I'm going to Jail (Short)</td>\n",
       "      <td>First time poster, but just a quick one I had ...</td>\n",
       "      <td>Scams</td>\n",
       "    </tr>\n",
       "    <tr>\n",
       "      <th>999</th>\n",
       "      <td>I would like some assistance about something o...</td>\n",
       "      <td>So I got a message yesterday from a Facebook f...</td>\n",
       "      <td>Scams</td>\n",
       "    </tr>\n",
       "  </tbody>\n",
       "</table>\n",
       "<p>4848 rows × 3 columns</p>\n",
       "</div>"
      ],
      "text/plain": [
       "                                                 title  \\\n",
       "0        Got this weird message. Guessing it's a scam?   \n",
       "1    When your friends post links to a FREE 2020 Je...   \n",
       "2                                 I’ve been scammed 5k   \n",
       "3          I got scammed-will I be able to get refund?   \n",
       "4    My dad found this website with \"great guitars\"...   \n",
       "..                                                 ...   \n",
       "994                        Always check the emails lol   \n",
       "995      I think I just got scammed and feel so stupid   \n",
       "996                   Is Google Opinion Rewards a Scam   \n",
       "998                          I'm going to Jail (Short)   \n",
       "999  I would like some assistance about something o...   \n",
       "\n",
       "                                              selftext subreddit  \n",
       "0                                                          Scams  \n",
       "1                                                          Scams  \n",
       "2    Sorry for any grammatical issues.\\n\\nShort sto...     Scams  \n",
       "3    Hi,\\n\\nI got problem.I bought something from o...     Scams  \n",
       "4                                                          Scams  \n",
       "..                                                 ...       ...  \n",
       "994                                                        Scams  \n",
       "995                                                        Scams  \n",
       "996  So i found this app called \\nGoogle Opinion Re...     Scams  \n",
       "998  First time poster, but just a quick one I had ...     Scams  \n",
       "999  So I got a message yesterday from a Facebook f...     Scams  \n",
       "\n",
       "[4848 rows x 3 columns]"
      ]
     },
     "execution_count": 10,
     "metadata": {},
     "output_type": "execute_result"
    }
   ],
   "source": [
    "df_scams"
   ]
  },
  {
   "cell_type": "code",
   "execution_count": 11,
   "metadata": {},
   "outputs": [],
   "source": [
    "df_scams.reset_index(drop=True, inplace=True)"
   ]
  },
  {
   "cell_type": "code",
   "execution_count": 12,
   "metadata": {},
   "outputs": [
    {
     "data": {
      "text/html": [
       "<div>\n",
       "<style scoped>\n",
       "    .dataframe tbody tr th:only-of-type {\n",
       "        vertical-align: middle;\n",
       "    }\n",
       "\n",
       "    .dataframe tbody tr th {\n",
       "        vertical-align: top;\n",
       "    }\n",
       "\n",
       "    .dataframe thead th {\n",
       "        text-align: right;\n",
       "    }\n",
       "</style>\n",
       "<table border=\"1\" class=\"dataframe\">\n",
       "  <thead>\n",
       "    <tr style=\"text-align: right;\">\n",
       "      <th></th>\n",
       "      <th>title</th>\n",
       "      <th>selftext</th>\n",
       "      <th>subreddit</th>\n",
       "    </tr>\n",
       "  </thead>\n",
       "  <tbody>\n",
       "    <tr>\n",
       "      <th>0</th>\n",
       "      <td>Got this weird message. Guessing it's a scam?</td>\n",
       "      <td></td>\n",
       "      <td>Scams</td>\n",
       "    </tr>\n",
       "    <tr>\n",
       "      <th>1</th>\n",
       "      <td>When your friends post links to a FREE 2020 Je...</td>\n",
       "      <td></td>\n",
       "      <td>Scams</td>\n",
       "    </tr>\n",
       "    <tr>\n",
       "      <th>2</th>\n",
       "      <td>I’ve been scammed 5k</td>\n",
       "      <td>Sorry for any grammatical issues.\\n\\nShort sto...</td>\n",
       "      <td>Scams</td>\n",
       "    </tr>\n",
       "    <tr>\n",
       "      <th>3</th>\n",
       "      <td>I got scammed-will I be able to get refund?</td>\n",
       "      <td>Hi,\\n\\nI got problem.I bought something from o...</td>\n",
       "      <td>Scams</td>\n",
       "    </tr>\n",
       "    <tr>\n",
       "      <th>4</th>\n",
       "      <td>My dad found this website with \"great guitars\"...</td>\n",
       "      <td></td>\n",
       "      <td>Scams</td>\n",
       "    </tr>\n",
       "    <tr>\n",
       "      <th>...</th>\n",
       "      <td>...</td>\n",
       "      <td>...</td>\n",
       "      <td>...</td>\n",
       "    </tr>\n",
       "    <tr>\n",
       "      <th>4843</th>\n",
       "      <td>Always check the emails lol</td>\n",
       "      <td></td>\n",
       "      <td>Scams</td>\n",
       "    </tr>\n",
       "    <tr>\n",
       "      <th>4844</th>\n",
       "      <td>I think I just got scammed and feel so stupid</td>\n",
       "      <td></td>\n",
       "      <td>Scams</td>\n",
       "    </tr>\n",
       "    <tr>\n",
       "      <th>4845</th>\n",
       "      <td>Is Google Opinion Rewards a Scam</td>\n",
       "      <td>So i found this app called \\nGoogle Opinion Re...</td>\n",
       "      <td>Scams</td>\n",
       "    </tr>\n",
       "    <tr>\n",
       "      <th>4846</th>\n",
       "      <td>I'm going to Jail (Short)</td>\n",
       "      <td>First time poster, but just a quick one I had ...</td>\n",
       "      <td>Scams</td>\n",
       "    </tr>\n",
       "    <tr>\n",
       "      <th>4847</th>\n",
       "      <td>I would like some assistance about something o...</td>\n",
       "      <td>So I got a message yesterday from a Facebook f...</td>\n",
       "      <td>Scams</td>\n",
       "    </tr>\n",
       "  </tbody>\n",
       "</table>\n",
       "<p>4848 rows × 3 columns</p>\n",
       "</div>"
      ],
      "text/plain": [
       "                                                  title  \\\n",
       "0         Got this weird message. Guessing it's a scam?   \n",
       "1     When your friends post links to a FREE 2020 Je...   \n",
       "2                                  I’ve been scammed 5k   \n",
       "3           I got scammed-will I be able to get refund?   \n",
       "4     My dad found this website with \"great guitars\"...   \n",
       "...                                                 ...   \n",
       "4843                        Always check the emails lol   \n",
       "4844      I think I just got scammed and feel so stupid   \n",
       "4845                   Is Google Opinion Rewards a Scam   \n",
       "4846                          I'm going to Jail (Short)   \n",
       "4847  I would like some assistance about something o...   \n",
       "\n",
       "                                               selftext subreddit  \n",
       "0                                                           Scams  \n",
       "1                                                           Scams  \n",
       "2     Sorry for any grammatical issues.\\n\\nShort sto...     Scams  \n",
       "3     Hi,\\n\\nI got problem.I bought something from o...     Scams  \n",
       "4                                                           Scams  \n",
       "...                                                 ...       ...  \n",
       "4843                                                        Scams  \n",
       "4844                                                        Scams  \n",
       "4845  So i found this app called \\nGoogle Opinion Re...     Scams  \n",
       "4846  First time poster, but just a quick one I had ...     Scams  \n",
       "4847  So I got a message yesterday from a Facebook f...     Scams  \n",
       "\n",
       "[4848 rows x 3 columns]"
      ]
     },
     "execution_count": 12,
     "metadata": {},
     "output_type": "execute_result"
    }
   ],
   "source": [
    "df_scams"
   ]
  },
  {
   "cell_type": "code",
   "execution_count": 14,
   "metadata": {},
   "outputs": [],
   "source": [
    "df_scams.dropna(subset=['title'], inplace=True) "
   ]
  },
  {
   "cell_type": "code",
   "execution_count": 15,
   "metadata": {},
   "outputs": [],
   "source": [
    "df_scams.fillna(value=\"\", inplace=True)"
   ]
  },
  {
   "cell_type": "code",
   "execution_count": 16,
   "metadata": {},
   "outputs": [],
   "source": [
    "df_scams['text'] = df_scams['title'] + \" \" + df_scams['selftext']"
   ]
  },
  {
   "cell_type": "code",
   "execution_count": 17,
   "metadata": {},
   "outputs": [],
   "source": [
    "df_scams.drop(columns=['title', 'selftext'], inplace=True)"
   ]
  },
  {
   "cell_type": "code",
   "execution_count": 18,
   "metadata": {},
   "outputs": [],
   "source": [
    "df_scams = pd.get_dummies(df_scams, columns=['subreddit'], drop_first=True)"
   ]
  },
  {
   "cell_type": "code",
   "execution_count": 19,
   "metadata": {},
   "outputs": [],
   "source": [
    "df_scams = df_scams.rename(columns= {'text':'text', 'subreddit_UnethicalLifeProTips': 'unethical'})"
   ]
  },
  {
   "cell_type": "code",
   "execution_count": 20,
   "metadata": {},
   "outputs": [],
   "source": [
    "df_scams['text'] = df_scams['text'].str.lower()"
   ]
  },
  {
   "cell_type": "code",
   "execution_count": 21,
   "metadata": {},
   "outputs": [],
   "source": [
    "df_scams.to_csv(\"./data/scam_df.csv\", index=False)"
   ]
  },
  {
   "cell_type": "code",
   "execution_count": 22,
   "metadata": {},
   "outputs": [
    {
     "data": {
      "text/html": [
       "<div>\n",
       "<style scoped>\n",
       "    .dataframe tbody tr th:only-of-type {\n",
       "        vertical-align: middle;\n",
       "    }\n",
       "\n",
       "    .dataframe tbody tr th {\n",
       "        vertical-align: top;\n",
       "    }\n",
       "\n",
       "    .dataframe thead th {\n",
       "        text-align: right;\n",
       "    }\n",
       "</style>\n",
       "<table border=\"1\" class=\"dataframe\">\n",
       "  <thead>\n",
       "    <tr style=\"text-align: right;\">\n",
       "      <th></th>\n",
       "      <th>text</th>\n",
       "    </tr>\n",
       "  </thead>\n",
       "  <tbody>\n",
       "    <tr>\n",
       "      <th>0</th>\n",
       "      <td>got this weird message. guessing it's a scam?</td>\n",
       "    </tr>\n",
       "    <tr>\n",
       "      <th>1</th>\n",
       "      <td>when your friends post links to a free 2020 je...</td>\n",
       "    </tr>\n",
       "    <tr>\n",
       "      <th>2</th>\n",
       "      <td>i’ve been scammed 5k sorry for any grammatical...</td>\n",
       "    </tr>\n",
       "    <tr>\n",
       "      <th>3</th>\n",
       "      <td>i got scammed-will i be able to get refund? hi...</td>\n",
       "    </tr>\n",
       "    <tr>\n",
       "      <th>4</th>\n",
       "      <td>my dad found this website with \"great guitars\"...</td>\n",
       "    </tr>\n",
       "    <tr>\n",
       "      <th>...</th>\n",
       "      <td>...</td>\n",
       "    </tr>\n",
       "    <tr>\n",
       "      <th>4843</th>\n",
       "      <td>always check the emails lol</td>\n",
       "    </tr>\n",
       "    <tr>\n",
       "      <th>4844</th>\n",
       "      <td>i think i just got scammed and feel so stupid</td>\n",
       "    </tr>\n",
       "    <tr>\n",
       "      <th>4845</th>\n",
       "      <td>is google opinion rewards a scam so i found th...</td>\n",
       "    </tr>\n",
       "    <tr>\n",
       "      <th>4846</th>\n",
       "      <td>i'm going to jail (short) first time poster, b...</td>\n",
       "    </tr>\n",
       "    <tr>\n",
       "      <th>4847</th>\n",
       "      <td>i would like some assistance about something o...</td>\n",
       "    </tr>\n",
       "  </tbody>\n",
       "</table>\n",
       "<p>4848 rows × 1 columns</p>\n",
       "</div>"
      ],
      "text/plain": [
       "                                                   text\n",
       "0        got this weird message. guessing it's a scam? \n",
       "1     when your friends post links to a free 2020 je...\n",
       "2     i’ve been scammed 5k sorry for any grammatical...\n",
       "3     i got scammed-will i be able to get refund? hi...\n",
       "4     my dad found this website with \"great guitars\"...\n",
       "...                                                 ...\n",
       "4843                       always check the emails lol \n",
       "4844     i think i just got scammed and feel so stupid \n",
       "4845  is google opinion rewards a scam so i found th...\n",
       "4846  i'm going to jail (short) first time poster, b...\n",
       "4847  i would like some assistance about something o...\n",
       "\n",
       "[4848 rows x 1 columns]"
      ]
     },
     "execution_count": 22,
     "metadata": {},
     "output_type": "execute_result"
    }
   ],
   "source": [
    "df_scams"
   ]
  },
  {
   "cell_type": "code",
   "execution_count": null,
   "metadata": {},
   "outputs": [],
   "source": []
  }
 ],
 "metadata": {
  "kernelspec": {
   "display_name": "Python 3",
   "language": "python",
   "name": "python3"
  },
  "language_info": {
   "codemirror_mode": {
    "name": "ipython",
    "version": 3
   },
   "file_extension": ".py",
   "mimetype": "text/x-python",
   "name": "python",
   "nbconvert_exporter": "python",
   "pygments_lexer": "ipython3",
   "version": "3.7.6"
  }
 },
 "nbformat": 4,
 "nbformat_minor": 4
}
