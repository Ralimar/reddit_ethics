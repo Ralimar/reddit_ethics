{
 "cells": [
  {
   "cell_type": "code",
   "execution_count": 1,
   "metadata": {},
   "outputs": [],
   "source": [
    "import numpy as np\n",
    "import pandas as pd\n",
    "import datetime\n",
    "import time\n",
    "import regex as re\n",
    "from sklearn.model_selection import train_test_split, GridSearchCV\n",
    "from sklearn.preprocessing import StandardScaler, FunctionTransformer\n",
    "from sklearn.pipeline import Pipeline, FeatureUnion\n",
    "from sklearn.linear_model import LogisticRegression\n",
    "from sklearn.feature_extraction.text import CountVectorizer, TfidfVectorizer\n",
    "from sklearn.model_selection import train_test_split\n",
    "from nltk.tokenize import RegexpTokenizer\n",
    "from nltk.stem import WordNetLemmatizer\n",
    "from nltk.corpus import stopwords\n",
    "from nltk.sentiment.vader import SentimentIntensityAnalyzer\n"
   ]
  },
  {
   "cell_type": "code",
   "execution_count": 2,
   "metadata": {},
   "outputs": [],
   "source": [
    "df = pd.read_csv('./data/reddit_df.csv')"
   ]
  },
  {
   "cell_type": "code",
   "execution_count": 3,
   "metadata": {},
   "outputs": [
    {
     "data": {
      "text/html": [
       "<div>\n",
       "<style scoped>\n",
       "    .dataframe tbody tr th:only-of-type {\n",
       "        vertical-align: middle;\n",
       "    }\n",
       "\n",
       "    .dataframe tbody tr th {\n",
       "        vertical-align: top;\n",
       "    }\n",
       "\n",
       "    .dataframe thead th {\n",
       "        text-align: right;\n",
       "    }\n",
       "</style>\n",
       "<table border=\"1\" class=\"dataframe\">\n",
       "  <thead>\n",
       "    <tr style=\"text-align: right;\">\n",
       "      <th></th>\n",
       "      <th>text</th>\n",
       "      <th>unethical</th>\n",
       "    </tr>\n",
       "  </thead>\n",
       "  <tbody>\n",
       "    <tr>\n",
       "      <th>0</th>\n",
       "      <td>if an online video has no controls to skip, p...</td>\n",
       "      <td>0</td>\n",
       "    </tr>\n",
       "    <tr>\n",
       "      <th>1</th>\n",
       "      <td>i always judge people's maturity based on the...</td>\n",
       "      <td>0</td>\n",
       "    </tr>\n",
       "  </tbody>\n",
       "</table>\n",
       "</div>"
      ],
      "text/plain": [
       "                                                text  unethical\n",
       "0   if an online video has no controls to skip, p...          0\n",
       "1   i always judge people's maturity based on the...          0"
      ]
     },
     "execution_count": 3,
     "metadata": {},
     "output_type": "execute_result"
    }
   ],
   "source": [
    "df.head(2)"
   ]
  },
  {
   "cell_type": "code",
   "execution_count": 4,
   "metadata": {},
   "outputs": [],
   "source": [
    "sia = SentimentIntensityAnalyzer()\n"
   ]
  },
  {
   "cell_type": "code",
   "execution_count": 5,
   "metadata": {},
   "outputs": [],
   "source": [
    "def get_compound_sentiment(post):\n",
    "    return sia.polarity_scores(post)['compound']"
   ]
  },
  {
   "cell_type": "code",
   "execution_count": 6,
   "metadata": {},
   "outputs": [],
   "source": [
    "df['sentiment'] = df['text'].apply(get_compound_sentiment)\n"
   ]
  },
  {
   "cell_type": "code",
   "execution_count": 7,
   "metadata": {},
   "outputs": [
    {
     "data": {
      "text/html": [
       "<div>\n",
       "<style scoped>\n",
       "    .dataframe tbody tr th:only-of-type {\n",
       "        vertical-align: middle;\n",
       "    }\n",
       "\n",
       "    .dataframe tbody tr th {\n",
       "        vertical-align: top;\n",
       "    }\n",
       "\n",
       "    .dataframe thead th {\n",
       "        text-align: right;\n",
       "    }\n",
       "</style>\n",
       "<table border=\"1\" class=\"dataframe\">\n",
       "  <thead>\n",
       "    <tr style=\"text-align: right;\">\n",
       "      <th></th>\n",
       "      <th>text</th>\n",
       "      <th>unethical</th>\n",
       "      <th>sentiment</th>\n",
       "    </tr>\n",
       "  </thead>\n",
       "  <tbody>\n",
       "    <tr>\n",
       "      <th>0</th>\n",
       "      <td>if an online video has no controls to skip, p...</td>\n",
       "      <td>0</td>\n",
       "      <td>-0.2960</td>\n",
       "    </tr>\n",
       "    <tr>\n",
       "      <th>1</th>\n",
       "      <td>i always judge people's maturity based on the...</td>\n",
       "      <td>0</td>\n",
       "      <td>0.3182</td>\n",
       "    </tr>\n",
       "  </tbody>\n",
       "</table>\n",
       "</div>"
      ],
      "text/plain": [
       "                                                text  unethical  sentiment\n",
       "0   if an online video has no controls to skip, p...          0    -0.2960\n",
       "1   i always judge people's maturity based on the...          0     0.3182"
      ]
     },
     "execution_count": 7,
     "metadata": {},
     "output_type": "execute_result"
    }
   ],
   "source": [
    "df.head(2)"
   ]
  },
  {
   "cell_type": "code",
   "execution_count": 8,
   "metadata": {},
   "outputs": [],
   "source": [
    "X = df.drop(columns=['unethical'])\n",
    "y = df['unethical']"
   ]
  },
  {
   "cell_type": "code",
   "execution_count": 9,
   "metadata": {},
   "outputs": [],
   "source": [
    "X_train, X_test, y_train, y_test = train_test_split(X, y, random_state=42)"
   ]
  },
  {
   "cell_type": "code",
   "execution_count": 10,
   "metadata": {},
   "outputs": [],
   "source": [
    "get_text_data = FunctionTransformer(lambda x: x['text'], validate = False)\n",
    "get_numeric_data = FunctionTransformer(lambda x: x[['sentiment']], validate = False)"
   ]
  },
  {
   "cell_type": "code",
   "execution_count": 11,
   "metadata": {},
   "outputs": [],
   "source": [
    "tvec = TfidfVectorizer()"
   ]
  },
  {
   "cell_type": "code",
   "execution_count": 27,
   "metadata": {},
   "outputs": [],
   "source": [
    "union_pipe = Pipeline([\n",
    "    ('features', FeatureUnion([\n",
    "            ('numeric_features', Pipeline([\n",
    "                ('selector', get_numeric_data),\n",
    "                ('ss', StandardScaler())\n",
    "            ])),\n",
    "            ('text_features', Pipeline([\n",
    "                ('selector', get_text_data),\n",
    "                ('tvec', TfidfVectorizer())\n",
    "            ]))\n",
    "    ])),\n",
    "    ('lr', LogisticRegression(max_iter=500))\n",
    "])\n",
    "\n",
    "params = {\n",
    "    'features__text_features__tvec__max_features': [10_000], \n",
    "    'features__text_features__tvec__stop_words': [['un', 'they', 'll', 'and']], \n",
    "    'features__text_features__tvec__ngram_range': [(1, 1)], \n",
    "    'features__text_features__tvec__min_df': [4], \n",
    "    'features__text_features__tvec__max_df': [.80], \n",
    "    'features__text_features__tvec__tokenizer': [None],\n",
    "}\n",
    "grid = GridSearchCV(union_pipe,\n",
    "                   params, n_jobs=6,  \n",
    "                   cv=5)"
   ]
  },
  {
   "cell_type": "code",
   "execution_count": 28,
   "metadata": {},
   "outputs": [
    {
     "name": "stdout",
     "output_type": "stream",
     "text": [
      "Wall time: 7.26 s\n"
     ]
    },
    {
     "data": {
      "text/plain": [
       "GridSearchCV(cv=5, error_score=nan,\n",
       "             estimator=Pipeline(memory=None,\n",
       "                                steps=[('features',\n",
       "                                        FeatureUnion(n_jobs=None,\n",
       "                                                     transformer_list=[('numeric_features',\n",
       "                                                                        Pipeline(memory=None,\n",
       "                                                                                 steps=[('selector',\n",
       "                                                                                         FunctionTransformer(accept_sparse=False,\n",
       "                                                                                                             check_inverse=True,\n",
       "                                                                                                             func=<function <lambda> at 0x000002A16CB06558>,\n",
       "                                                                                                             inv_kw_args=None,\n",
       "                                                                                                             inverse_func=None,\n",
       "                                                                                                             kw_args=None,\n",
       "                                                                                                             validate=Fal...\n",
       "                         'features__text_features__tvec__max_features': [10000],\n",
       "                         'features__text_features__tvec__min_df': [4],\n",
       "                         'features__text_features__tvec__ngram_range': [(1, 1)],\n",
       "                         'features__text_features__tvec__stop_words': [['un',\n",
       "                                                                        'they',\n",
       "                                                                        'll',\n",
       "                                                                        'and']],\n",
       "                         'features__text_features__tvec__tokenizer': [None]},\n",
       "             pre_dispatch='2*n_jobs', refit=True, return_train_score=False,\n",
       "             scoring=None, verbose=0)"
      ]
     },
     "execution_count": 28,
     "metadata": {},
     "output_type": "execute_result"
    }
   ],
   "source": [
    "%%time\n",
    "grid.fit(X_train, y_train)"
   ]
  },
  {
   "cell_type": "code",
   "execution_count": 16,
   "metadata": {},
   "outputs": [],
   "source": [
    "scores = []"
   ]
  },
  {
   "cell_type": "code",
   "execution_count": 29,
   "metadata": {},
   "outputs": [
    {
     "data": {
      "text/plain": [
       "0.8120089930569107"
      ]
     },
     "execution_count": 29,
     "metadata": {},
     "output_type": "execute_result"
    }
   ],
   "source": [
    "grid.best_score_"
   ]
  },
  {
   "cell_type": "code",
   "execution_count": 30,
   "metadata": {},
   "outputs": [
    {
     "data": {
      "text/plain": [
       "0.8809859627913225"
      ]
     },
     "execution_count": 30,
     "metadata": {},
     "output_type": "execute_result"
    }
   ],
   "source": [
    "grid.score(X_train, y_train)"
   ]
  },
  {
   "cell_type": "code",
   "execution_count": 31,
   "metadata": {},
   "outputs": [
    {
     "data": {
      "text/plain": [
       "0.8240983276244207"
      ]
     },
     "execution_count": 31,
     "metadata": {},
     "output_type": "execute_result"
    }
   ],
   "source": [
    "grid.score(X_test, y_test)"
   ]
  },
  {
   "cell_type": "code",
   "execution_count": 32,
   "metadata": {},
   "outputs": [
    {
     "data": {
      "text/plain": [
       "[{'features__text_features__tvec__max_df': 0.7,\n",
       "  'features__text_features__tvec__max_features': 1000,\n",
       "  'features__text_features__tvec__min_df': 4,\n",
       "  'features__text_features__tvec__ngram_range': (1, 1),\n",
       "  'features__text_features__tvec__stop_words': ['un', 'they', 'll', 'and'],\n",
       "  'features__text_features__tvec__tokenizer': None},\n",
       " 0.7800389735227746,\n",
       " {'features__text_features__tvec__max_df': 0.8,\n",
       "  'features__text_features__tvec__max_features': 1000,\n",
       "  'features__text_features__tvec__min_df': 4,\n",
       "  'features__text_features__tvec__ngram_range': (1, 1),\n",
       "  'features__text_features__tvec__stop_words': ['un', 'they', 'll', 'and'],\n",
       "  'features__text_features__tvec__tokenizer': None},\n",
       " 0.779367201375759,\n",
       " {'features__text_features__tvec__max_df': 0.8,\n",
       "  'features__text_features__tvec__max_features': 10000,\n",
       "  'features__text_features__tvec__min_df': 4,\n",
       "  'features__text_features__tvec__ngram_range': (1, 1),\n",
       "  'features__text_features__tvec__stop_words': ['un', 'they', 'll', 'and'],\n",
       "  'features__text_features__tvec__tokenizer': None},\n",
       " 0.8120089930569107]"
      ]
     },
     "execution_count": 32,
     "metadata": {},
     "output_type": "execute_result"
    }
   ],
   "source": [
    "scores.append(grid.best_params_)\n",
    "scores.append(grid.best_score_)\n",
    "scores"
   ]
  },
  {
   "cell_type": "code",
   "execution_count": 41,
   "metadata": {},
   "outputs": [],
   "source": [
    "features = ['sentiment_score'] +\\\n",
    "grid.best_estimator_.named_steps['features'].transformer_list[1][1].named_steps['tvec'].get_feature_names()\n",
    "coefficients = grid.best_estimator_.named_steps['lr'].coef_[0]\n"
   ]
  },
  {
   "cell_type": "code",
   "execution_count": 42,
   "metadata": {},
   "outputs": [
    {
     "data": {
      "text/html": [
       "<div>\n",
       "<style scoped>\n",
       "    .dataframe tbody tr th:only-of-type {\n",
       "        vertical-align: middle;\n",
       "    }\n",
       "\n",
       "    .dataframe tbody tr th {\n",
       "        vertical-align: top;\n",
       "    }\n",
       "\n",
       "    .dataframe thead th {\n",
       "        text-align: right;\n",
       "    }\n",
       "</style>\n",
       "<table border=\"1\" class=\"dataframe\">\n",
       "  <thead>\n",
       "    <tr style=\"text-align: right;\">\n",
       "      <th></th>\n",
       "      <th>features</th>\n",
       "      <th>coef</th>\n",
       "      <th>exp_coef</th>\n",
       "    </tr>\n",
       "  </thead>\n",
       "  <tbody>\n",
       "    <tr>\n",
       "      <th>0</th>\n",
       "      <td>sentiment_score</td>\n",
       "      <td>-0.195954</td>\n",
       "      <td>0.822050</td>\n",
       "    </tr>\n",
       "    <tr>\n",
       "      <th>1</th>\n",
       "      <td>00</td>\n",
       "      <td>0.181022</td>\n",
       "      <td>1.198442</td>\n",
       "    </tr>\n",
       "    <tr>\n",
       "      <th>2</th>\n",
       "      <td>000</td>\n",
       "      <td>-0.136978</td>\n",
       "      <td>0.871989</td>\n",
       "    </tr>\n",
       "    <tr>\n",
       "      <th>3</th>\n",
       "      <td>01</td>\n",
       "      <td>-0.131910</td>\n",
       "      <td>0.876420</td>\n",
       "    </tr>\n",
       "    <tr>\n",
       "      <th>4</th>\n",
       "      <td>02</td>\n",
       "      <td>0.161400</td>\n",
       "      <td>1.175155</td>\n",
       "    </tr>\n",
       "    <tr>\n",
       "      <th>...</th>\n",
       "      <td>...</td>\n",
       "      <td>...</td>\n",
       "      <td>...</td>\n",
       "    </tr>\n",
       "    <tr>\n",
       "      <th>9354</th>\n",
       "      <td>zipper</td>\n",
       "      <td>-0.391761</td>\n",
       "      <td>0.675865</td>\n",
       "    </tr>\n",
       "    <tr>\n",
       "      <th>9355</th>\n",
       "      <td>zone</td>\n",
       "      <td>-0.319024</td>\n",
       "      <td>0.726858</td>\n",
       "    </tr>\n",
       "    <tr>\n",
       "      <th>9356</th>\n",
       "      <td>zones</td>\n",
       "      <td>-0.089793</td>\n",
       "      <td>0.914120</td>\n",
       "    </tr>\n",
       "    <tr>\n",
       "      <th>9357</th>\n",
       "      <td>zoo</td>\n",
       "      <td>0.143018</td>\n",
       "      <td>1.153751</td>\n",
       "    </tr>\n",
       "    <tr>\n",
       "      <th>9358</th>\n",
       "      <td>zoom</td>\n",
       "      <td>-0.705412</td>\n",
       "      <td>0.493905</td>\n",
       "    </tr>\n",
       "  </tbody>\n",
       "</table>\n",
       "<p>9359 rows × 3 columns</p>\n",
       "</div>"
      ],
      "text/plain": [
       "             features      coef  exp_coef\n",
       "0     sentiment_score -0.195954  0.822050\n",
       "1                  00  0.181022  1.198442\n",
       "2                 000 -0.136978  0.871989\n",
       "3                  01 -0.131910  0.876420\n",
       "4                  02  0.161400  1.175155\n",
       "...               ...       ...       ...\n",
       "9354           zipper -0.391761  0.675865\n",
       "9355             zone -0.319024  0.726858\n",
       "9356            zones -0.089793  0.914120\n",
       "9357              zoo  0.143018  1.153751\n",
       "9358             zoom -0.705412  0.493905\n",
       "\n",
       "[9359 rows x 3 columns]"
      ]
     },
     "execution_count": 42,
     "metadata": {},
     "output_type": "execute_result"
    }
   ],
   "source": [
    "\n",
    "coef_df = pd.DataFrame({'features': features, \n",
    "              'coef' : coefficients,\n",
    "              'exp_coef': [np.exp(coef) for coef in coefficients] #exponentiated coefficients\n",
    "             })\n",
    "\n",
    "coef_df"
   ]
  },
  {
   "cell_type": "code",
   "execution_count": 55,
   "metadata": {},
   "outputs": [
    {
     "data": {
      "text/html": [
       "<div>\n",
       "<style scoped>\n",
       "    .dataframe tbody tr th:only-of-type {\n",
       "        vertical-align: middle;\n",
       "    }\n",
       "\n",
       "    .dataframe tbody tr th {\n",
       "        vertical-align: top;\n",
       "    }\n",
       "\n",
       "    .dataframe thead th {\n",
       "        text-align: right;\n",
       "    }\n",
       "</style>\n",
       "<table border=\"1\" class=\"dataframe\">\n",
       "  <thead>\n",
       "    <tr style=\"text-align: right;\">\n",
       "      <th></th>\n",
       "      <th>features</th>\n",
       "      <th>coef</th>\n",
       "      <th>exp_coef</th>\n",
       "    </tr>\n",
       "  </thead>\n",
       "  <tbody>\n",
       "    <tr>\n",
       "      <th>3441</th>\n",
       "      <td>free</td>\n",
       "      <td>5.856244</td>\n",
       "      <td>349.409134</td>\n",
       "    </tr>\n",
       "    <tr>\n",
       "      <th>3133</th>\n",
       "      <td>fake</td>\n",
       "      <td>4.526203</td>\n",
       "      <td>92.406989</td>\n",
       "    </tr>\n",
       "    <tr>\n",
       "      <th>9025</th>\n",
       "      <td>want</td>\n",
       "      <td>4.471851</td>\n",
       "      <td>87.518602</td>\n",
       "    </tr>\n",
       "    <tr>\n",
       "      <th>6828</th>\n",
       "      <td>request</td>\n",
       "      <td>4.432128</td>\n",
       "      <td>84.110226</td>\n",
       "    </tr>\n",
       "    <tr>\n",
       "      <th>8252</th>\n",
       "      <td>tell</td>\n",
       "      <td>4.173128</td>\n",
       "      <td>64.918218</td>\n",
       "    </tr>\n",
       "    <tr>\n",
       "      <th>6925</th>\n",
       "      <td>return</td>\n",
       "      <td>3.913287</td>\n",
       "      <td>50.063232</td>\n",
       "    </tr>\n",
       "    <tr>\n",
       "      <th>3580</th>\n",
       "      <td>get</td>\n",
       "      <td>3.561524</td>\n",
       "      <td>35.216816</td>\n",
       "    </tr>\n",
       "    <tr>\n",
       "      <th>1579</th>\n",
       "      <td>claim</td>\n",
       "      <td>3.379069</td>\n",
       "      <td>29.343443</td>\n",
       "    </tr>\n",
       "    <tr>\n",
       "      <th>7122</th>\n",
       "      <td>say</td>\n",
       "      <td>3.376865</td>\n",
       "      <td>29.278836</td>\n",
       "    </tr>\n",
       "    <tr>\n",
       "      <th>7611</th>\n",
       "      <td>so</td>\n",
       "      <td>3.136290</td>\n",
       "      <td>23.018313</td>\n",
       "    </tr>\n",
       "  </tbody>\n",
       "</table>\n",
       "</div>"
      ],
      "text/plain": [
       "     features      coef    exp_coef\n",
       "3441     free  5.856244  349.409134\n",
       "3133     fake  4.526203   92.406989\n",
       "9025     want  4.471851   87.518602\n",
       "6828  request  4.432128   84.110226\n",
       "8252     tell  4.173128   64.918218\n",
       "6925   return  3.913287   50.063232\n",
       "3580      get  3.561524   35.216816\n",
       "1579    claim  3.379069   29.343443\n",
       "7122      say  3.376865   29.278836\n",
       "7611       so  3.136290   23.018313"
      ]
     },
     "execution_count": 55,
     "metadata": {},
     "output_type": "execute_result"
    }
   ],
   "source": [
    "coef_df.sort_values(by=[\"exp_coef\"], ascending=False).head(10)"
   ]
  },
  {
   "cell_type": "code",
   "execution_count": null,
   "metadata": {},
   "outputs": [],
   "source": []
  }
 ],
 "metadata": {
  "kernelspec": {
   "display_name": "Python 3",
   "language": "python",
   "name": "python3"
  },
  "language_info": {
   "codemirror_mode": {
    "name": "ipython",
    "version": 3
   },
   "file_extension": ".py",
   "mimetype": "text/x-python",
   "name": "python",
   "nbconvert_exporter": "python",
   "pygments_lexer": "ipython3",
   "version": "3.7.6"
  }
 },
 "nbformat": 4,
 "nbformat_minor": 4
}
